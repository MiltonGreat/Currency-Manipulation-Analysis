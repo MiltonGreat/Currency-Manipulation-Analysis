{
 "cells": [
  {
   "cell_type": "markdown",
   "id": "ff58161d-f0bd-416d-9ab3-73d81e780170",
   "metadata": {},
   "source": [
    "# Currency Manipulation Analysis"
   ]
  },
  {
   "cell_type": "markdown",
   "id": "21ecaa79-eb6e-4c28-bd5f-d7afdd886a4b",
   "metadata": {},
   "source": [
    "This project aimed to detect suspicious exchange rate movements using time-series anomaly detection techniques.\n",
    "\n",
    "This analysis provides a foundation for monitoring currency markets and can be adapted to:\n",
    "\n",
    "- Detect fraudulent trading patterns in real-time.\n",
    "- Support regulatory audits of exchange rate integrity.\n",
    "- Improve risk models for forex traders and policymakers."
   ]
  },
  {
   "cell_type": "code",
   "execution_count": 1,
   "id": "7fd30493-8318-45df-8ec9-d6679210b6a2",
   "metadata": {},
   "outputs": [],
   "source": [
    "import pandas as pd\n",
    "import numpy as np\n",
    "import matplotlib.pyplot as plt\n",
    "import seaborn as sns\n",
    "from scipy import stats\n",
    "from sklearn.preprocessing import MinMaxScaler\n",
    "from tensorflow.keras.models import Sequential\n",
    "from tensorflow.keras.layers import LSTM, Dense, Dropout\n",
    "from sklearn.model_selection import train_test_split"
   ]
  },
  {
   "cell_type": "markdown",
   "id": "4dfb9873-6815-4098-8c79-06c7e0e60633",
   "metadata": {},
   "source": [
    "## Data Loading & Initial Checks"
   ]
  },
  {
   "cell_type": "code",
   "execution_count": 2,
   "id": "2c91a4eb-946c-4393-b5dc-a99dbe143d44",
   "metadata": {},
   "outputs": [
    {
     "data": {
      "text/html": [
       "<div>\n",
       "<style scoped>\n",
       "    .dataframe tbody tr th:only-of-type {\n",
       "        vertical-align: middle;\n",
       "    }\n",
       "\n",
       "    .dataframe tbody tr th {\n",
       "        vertical-align: top;\n",
       "    }\n",
       "\n",
       "    .dataframe thead th {\n",
       "        text-align: right;\n",
       "    }\n",
       "</style>\n",
       "<table border=\"1\" class=\"dataframe\">\n",
       "  <thead>\n",
       "    <tr style=\"text-align: right;\">\n",
       "      <th></th>\n",
       "      <th>currency</th>\n",
       "      <th>base_currency</th>\n",
       "      <th>currency_name</th>\n",
       "      <th>exchange_rate</th>\n",
       "      <th>date</th>\n",
       "    </tr>\n",
       "  </thead>\n",
       "  <tbody>\n",
       "    <tr>\n",
       "      <th>0</th>\n",
       "      <td>ZWL</td>\n",
       "      <td>EUR</td>\n",
       "      <td>Zimbabwean Dollar</td>\n",
       "      <td>346.759989</td>\n",
       "      <td>2025-03-27</td>\n",
       "    </tr>\n",
       "    <tr>\n",
       "      <th>1</th>\n",
       "      <td>GHS</td>\n",
       "      <td>EUR</td>\n",
       "      <td>Ghanaian Cedi</td>\n",
       "      <td>16.697424</td>\n",
       "      <td>2025-03-27</td>\n",
       "    </tr>\n",
       "    <tr>\n",
       "      <th>2</th>\n",
       "      <td>HRK</td>\n",
       "      <td>EUR</td>\n",
       "      <td>Croatian Kuna</td>\n",
       "      <td>7.537513</td>\n",
       "      <td>2025-03-27</td>\n",
       "    </tr>\n",
       "    <tr>\n",
       "      <th>3</th>\n",
       "      <td>HNL</td>\n",
       "      <td>EUR</td>\n",
       "      <td>Honduran Lempira</td>\n",
       "      <td>27.603963</td>\n",
       "      <td>2025-03-27</td>\n",
       "    </tr>\n",
       "    <tr>\n",
       "      <th>4</th>\n",
       "      <td>HKD</td>\n",
       "      <td>EUR</td>\n",
       "      <td>Hong Kong Dollar</td>\n",
       "      <td>8.374873</td>\n",
       "      <td>2025-03-27</td>\n",
       "    </tr>\n",
       "  </tbody>\n",
       "</table>\n",
       "</div>"
      ],
      "text/plain": [
       "  currency base_currency      currency_name  exchange_rate        date\n",
       "0      ZWL           EUR  Zimbabwean Dollar     346.759989  2025-03-27\n",
       "1      GHS           EUR      Ghanaian Cedi      16.697424  2025-03-27\n",
       "2      HRK           EUR      Croatian Kuna       7.537513  2025-03-27\n",
       "3      HNL           EUR   Honduran Lempira      27.603963  2025-03-27\n",
       "4      HKD           EUR   Hong Kong Dollar       8.374873  2025-03-27"
      ]
     },
     "execution_count": 2,
     "metadata": {},
     "output_type": "execute_result"
    }
   ],
   "source": [
    "df = pd.read_csv('daily_forex_rates.csv')\n",
    "df.head()"
   ]
  },
  {
   "cell_type": "code",
   "execution_count": 3,
   "id": "dafc0ffc-5870-4ab0-8252-87b3a0669af4",
   "metadata": {},
   "outputs": [
    {
     "name": "stdout",
     "output_type": "stream",
     "text": [
      "<class 'pandas.core.frame.DataFrame'>\n",
      "RangeIndex: 409426 entries, 0 to 409425\n",
      "Data columns (total 5 columns):\n",
      " #   Column         Non-Null Count   Dtype  \n",
      "---  ------         --------------   -----  \n",
      " 0   currency       409426 non-null  object \n",
      " 1   base_currency  409426 non-null  object \n",
      " 2   currency_name  408591 non-null  object \n",
      " 3   exchange_rate  409426 non-null  float64\n",
      " 4   date           409426 non-null  object \n",
      "dtypes: float64(1), object(4)\n",
      "memory usage: 15.6+ MB\n",
      "None\n",
      "       exchange_rate\n",
      "count   4.094260e+05\n",
      "mean    6.881772e+03\n",
      "std     1.423881e+05\n",
      "min     9.731156e-06\n",
      "25%     2.606900e+00\n",
      "50%     1.756210e+01\n",
      "75%     1.576555e+02\n",
      "max     4.881841e+06\n"
     ]
    }
   ],
   "source": [
    "print(df.info())\n",
    "print(df.describe())"
   ]
  },
  {
   "cell_type": "markdown",
   "id": "4ee3639d-17ee-4948-b8d1-ad970eaf85fc",
   "metadata": {},
   "source": [
    "## Data Cleaning"
   ]
  },
  {
   "cell_type": "code",
   "execution_count": 5,
   "id": "7debdab4-6880-46fb-97c2-08e61c3bbf32",
   "metadata": {},
   "outputs": [
    {
     "name": "stdout",
     "output_type": "stream",
     "text": [
      "Extreme exchange rates found:\n",
      "       currency base_currency  exchange_rate       date\n",
      "23031       VEF           EUR   3.847823e+06 2024-11-12\n",
      "23163       VEF           EUR   3.868575e+06 2024-11-11\n",
      "23349       VEF           EUR   3.884341e+06 2024-11-10\n",
      "23465       VEF           EUR   3.884341e+06 2024-11-09\n",
      "23617       VEF           EUR   3.903928e+06 2024-11-08\n",
      "...         ...           ...            ...        ...\n",
      "184115      VES           EUR   1.263664e+06 2020-12-01\n",
      "184179      VES           EUR   1.234757e+06 2020-11-30\n",
      "184338      VES           EUR   1.163752e+06 2020-11-27\n",
      "184444      VES           EUR   1.100849e+06 2020-11-26\n",
      "184602      VES           EUR   1.090618e+06 2020-11-25\n",
      "\n",
      "[600 rows x 4 columns]\n"
     ]
    }
   ],
   "source": [
    "# Convert date to datetime\n",
    "df['date'] = pd.to_datetime(df['date'])\n",
    "\n",
    "# Handle missing values in currency_name (835 missing values)\n",
    "# Option 1: Fill with a placeholder\n",
    "df['currency_name'] = df['currency_name'].fillna('Unknown')\n",
    "\n",
    "# Drop rows with missing currency_name (if acceptable)\n",
    "# df = df.dropna(subset=['currency_name'])\n",
    "\n",
    "# Check for duplicate entries\n",
    "duplicates = df.duplicated(subset=['currency', 'base_currency', 'date'], keep=False)\n",
    "if duplicates.any():\n",
    "    print(f\"Found {duplicates.sum()} duplicate rows\")\n",
    "    # Option to remove duplicates:\n",
    "    df = df.drop_duplicates(subset=['currency', 'base_currency', 'date'])\n",
    "\n",
    "# Investigate extreme values in exchange_rate\n",
    "# The max is 4.88M which seems extremely high for an exchange rate\n",
    "extreme_rates = df[df['exchange_rate'] > 1e6]  # Adjust threshold as needed\n",
    "if not extreme_rates.empty:\n",
    "    print(\"Extreme exchange rates found:\")\n",
    "    print(extreme_rates[['currency', 'base_currency', 'exchange_rate', 'date']])\n",
    "\n",
    "# Check for consistency in base_currency (should probably all be EUR based on your sample)\n",
    "if df['base_currency'].nunique() > 1:\n",
    "    print(\"Multiple base currencies found:\")\n",
    "    print(df['base_currency'].value_counts())\n",
    "\n",
    "# Verify currency codes are all 3 letters\n",
    "invalid_currency_codes = df[~df['currency'].str.match('^[A-Z]{3}$')]\n",
    "if not invalid_currency_codes.empty:\n",
    "    print(\"Invalid currency codes found:\")\n",
    "    print(invalid_currency_codes)\n",
    "\n",
    "# After cleaning, you might want to sort by date and currency\n",
    "df = df.sort_values(['date', 'currency'])"
   ]
  },
  {
   "cell_type": "markdown",
   "id": "0e054150-e95d-4657-bac8-5b17e2be715e",
   "metadata": {},
   "source": [
    "## Anomaly Detection Function\n",
    "\n",
    "Detects suspicious exchange rate movements using statistical methods."
   ]
  },
  {
   "cell_type": "code",
   "execution_count": 6,
   "id": "ba8eb88e-f177-4a4f-bdbc-2ed81921532a",
   "metadata": {},
   "outputs": [
    {
     "name": "stdout",
     "output_type": "stream",
     "text": [
      "Found 3450 suspicious movements:\n",
      "      currency       date  exchange_rate   z_score\n",
      "64544      AED 2024-03-14       3.998823 -3.157481\n",
      "63171      AED 2024-03-22       3.945252 -3.700480\n",
      "63066      AED 2024-03-23       3.989558  3.149540\n",
      "50115      AED 2024-06-07       3.968601 -3.092028\n",
      "49158      AED 2024-06-12       3.984317  3.247298\n",
      "...        ...        ...            ...       ...\n",
      "49960      ZWL 2024-06-07     347.923390 -3.088528\n",
      "49232      ZWL 2024-06-12     349.300928  3.247638\n",
      "40397      ZWL 2024-08-02     351.010640  3.022965\n",
      "24050      ZWL 2024-11-06     346.237982 -4.038756\n",
      "3857       ZWL 2025-03-05     344.154541  3.076489\n",
      "\n",
      "[3450 rows x 4 columns]\n"
     ]
    }
   ],
   "source": [
    "def currency_manipulation_analysis(df, window_days=30, z_threshold=3):\n",
    "    \"\"\"\n",
    "    Detect potential manipulation via unusual volatility.\n",
    "    \n",
    "    Parameters:\n",
    "        df: DataFrame with columns ['currency', 'date', 'exchange_rate']\n",
    "        window_days: Rolling window size in days\n",
    "        z_threshold: Z-score threshold for outliers\n",
    "    \"\"\"\n",
    "    df = df.copy()\n",
    "    df['date'] = pd.to_datetime(df['date'])\n",
    "    df = df.sort_values(['currency', 'date'])\n",
    "    \n",
    "    # Calculate daily returns\n",
    "    df['daily_return'] = df.groupby('currency')['exchange_rate'].pct_change()\n",
    "    \n",
    "    # Rolling statistics\n",
    "    df['rolling_std'] = df.groupby('currency')['daily_return'].transform(\n",
    "        lambda x: x.rolling(window_days).std()\n",
    "    )\n",
    "    df['rolling_mean'] = df.groupby('currency')['daily_return'].transform(\n",
    "        lambda x: x.rolling(window_days).mean()\n",
    "    )\n",
    "    \n",
    "    # Z-score of returns\n",
    "    df['z_score'] = (df['daily_return'] - df['rolling_mean']) / df['rolling_std']\n",
    "    \n",
    "    # Flag anomalies\n",
    "    df['suspicious'] = (df['z_score'].abs() > z_threshold) & ~df['daily_return'].isna()\n",
    "    \n",
    "    return df[df['suspicious']]\n",
    "\n",
    "# Usage:\n",
    "manipulation_results = currency_manipulation_analysis(df)\n",
    "print(f\"Found {len(manipulation_results)} suspicious movements:\")\n",
    "print(manipulation_results[['currency', 'date', 'exchange_rate', 'z_score']])"
   ]
  },
  {
   "cell_type": "markdown",
   "id": "3cc6883d-b5d2-4db0-812d-620364a13818",
   "metadata": {},
   "source": [
    "## Visualize Anomalies\n",
    "\n",
    "Plot exchange rates with flagged points for specific currencies."
   ]
  },
  {
   "cell_type": "code",
   "execution_count": 9,
   "id": "b0a3c418-b22c-4672-bc4c-0169abd3fc0b",
   "metadata": {},
   "outputs": [
    {
     "data": {
      "image/png": "[encoded data removed]",
      "text/plain": [
       "<Figure size 1200x600 with 1 Axes>"
      ]
     },
     "metadata": {},
     "output_type": "display_data"
    }
   ],
   "source": [
    "def plot_anomalies(df, currency_code):\n",
    "    subset = df[df['currency'] == currency_code]\n",
    "    plt.figure(figsize=(12, 6))\n",
    "    plt.plot(subset['date'], subset['exchange_rate'], label='Exchange Rate')\n",
    "    anomalies = subset[subset['suspicious']]\n",
    "    plt.scatter(anomalies['date'], anomalies['exchange_rate'], color='red', label='Anomaly')\n",
    "    plt.title(f'Anomalies for {currency_code} (Z > 3)')\n",
    "    plt.legend()\n",
    "    plt.show()\n",
    "\n",
    "plot_anomalies(manipulation_results, 'AED')"
   ]
  },
  {
   "cell_type": "markdown",
   "id": "c1e9945a-a1da-4007-9f90-111ad679f5d4",
   "metadata": {},
   "source": [
    "## Conclusion\n",
    "\n",
    "The output shows 3,450 flagged \"suspicious movements\" across currencies like AED (UAE Dirham) and ZWL (Zimbabwean Dollar).\n",
    "\n",
    "While no single method can definitively prove manipulation, this project highlights critical junctures where human judgment and further investigation are essential. The code and framework developed here offer a scalable tool for ongoing surveillance.\n",
    "\n",
    "### Key Findings\n",
    "\n",
    "#### 1. Anomaly Distribution:\n",
    "- Stable currencies (e.g., AED) showed fewer but sharp, unexpected movements (e.g., sudden spikes/drops of ~0.5–1%). These may reflect central bank interventions or speculative trading.\n",
    "- Volatile currencies (e.g., ZWL) exhibited frequent extreme rates, consistent with hyperinflation or data reporting issues.\n",
    "\n",
    "#### 2. Temporal Patterns:\n",
    "- Anomalies clustered around specific dates (e.g., March/June 2024), suggesting external triggers like policy changes or market crises.\n",
    "\n",
    "#### 3. Method Effectiveness:\n",
    "- The Z-score-based approach successfully flagged extreme returns but may generate false positives for stable currencies. Dynamic thresholds (e.g., percentile-based) could improve precision."
   ]
  }
 ],
 "metadata": {
  "kernelspec": {
   "display_name": "Python 3 (ipykernel)",
   "language": "python",
   "name": "python3"
  },
  "language_info": {
   "codemirror_mode": {
    "name": "ipython",
    "version": 3
   },
   "file_extension": ".py",
   "mimetype": "text/x-python",
   "name": "python",
   "nbconvert_exporter": "python",
   "pygments_lexer": "ipython3",
   "version": "3.12.3"
  }
 },
 "nbformat": 4,
 "nbformat_minor": 5
}
